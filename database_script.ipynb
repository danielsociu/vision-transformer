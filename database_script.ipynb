{
 "cells": [
  {
   "cell_type": "code",
   "execution_count": 10,
   "metadata": {
    "collapsed": true
   },
   "outputs": [
    {
     "name": "stdout",
     "output_type": "stream",
     "text": [
      "['i8', 'ip', 'i4', 'i14', 'i11', 'i9', 'i15', 'i1', 'i12', 'i10', 'i13', 'il50', 'i6', 'i2', 'i7', 'i5', 'i3']\n",
      "2573\n",
      "2573\n"
     ]
    }
   ],
   "source": [
    "import os\n",
    "import json\n",
    "\n",
    "with open(\"./tt100k_2021/annotations_all.json\") as f:\n",
    "    new_db = {}\n",
    "    json_data = json.load(f)\n",
    "\n",
    "    # parsing annot\n",
    "    annot_type = json_data['types']\n",
    "    # parsed_annotations = [annot for annot in annot_type if \"p\" in annot and \"i\" not in annot]\n",
    "    parsed_annotations = [annot for annot in annot_type if \"i\" in annot]\n",
    "    new_parsed_annotations = []\n",
    "    for type in parsed_annotations:\n",
    "        full_path = os.path.join(\"tt100k_2021/marks\", type + \".png\")\n",
    "        if not os.path.exists(full_path):\n",
    "            # print (full_path)\n",
    "            pass\n",
    "        else:\n",
    "            new_parsed_annotations.append(type)\n",
    "    parsed_annotations = new_parsed_annotations\n",
    "    # print(parsed_annotations)\n",
    "\n",
    "\n",
    "\n",
    "    new_db['types'] = parsed_annotations\n",
    "    new_db['imgs'] = {}\n",
    "    number_images = 0\n",
    "    for key, data in json_data['imgs'].items():\n",
    "        count = 0\n",
    "        new_data = {\n",
    "            'path': data['path'],\n",
    "            'id': data['id'],\n",
    "            'objects': []\n",
    "        }\n",
    "        # print(category_list)\n",
    "        for object in data['objects']:\n",
    "            # new_data_category_list = [item['category'] for item in new_data['objects']]\n",
    "            # print(new_data_category_list)\n",
    "            if object['category'] in parsed_annotations:\n",
    "                # print(category_list)\n",
    "                new_data['objects'].append(object)\n",
    "                count += 1\n",
    "        if count > 0:\n",
    "            new_db['imgs'][key] = new_data\n",
    "            number_images += 1\n",
    "\n",
    "    print(number_images)\n",
    "    print(len(new_db['imgs']))\n",
    "    # print(new_db)\n",
    "    # print(annot_type)\n"
   ]
  },
  {
   "cell_type": "code",
   "execution_count": 38,
   "outputs": [],
   "source": [
    "with open('new_tt100k_2021/new_annotations_all.json', 'w') as outfile:\n",
    "    json.dump(new_db, outfile)\n"
   ],
   "metadata": {
    "collapsed": false,
    "pycharm": {
     "name": "#%%\n"
    }
   }
  },
  {
   "cell_type": "code",
   "execution_count": 41,
   "outputs": [],
   "source": [
    "import shutil\n",
    "\n",
    "source_dir = \"tt100k_2021\"\n",
    "dest_dir = \"new_tt100k_2021/images\"\n",
    "\n",
    "for key, data in new_db['imgs'].items():\n",
    "    full_path = os.path.join(source_dir, data['path'])\n",
    "    shutil.copy(full_path, dest_dir)\n"
   ],
   "metadata": {
    "collapsed": false,
    "pycharm": {
     "name": "#%%\n"
    }
   }
  },
  {
   "cell_type": "code",
   "execution_count": 5,
   "outputs": [
    {
     "name": "stdout",
     "output_type": "stream",
     "text": [
      "['i8', 'im', 'il70', 'ip', 'i2r', 'iz', 'il80', 'i4', 'i14', 'i11', 'i4l', 'i9', 'i15', 'i1', 'i12', 'i10', 'i13', 'il50', 'i6', 'i2', 'i7', 'il60', 'il100', 'il110', 'i5', 'il90', 'i3']\n"
     ]
    }
   ],
   "source": [
    "import shutil\n",
    "source_dir = \"tt100k_2021\"\n",
    "types_dir = os.path.join(source_dir, \"marks\")\n",
    "dest_dir_marks = \"new_tt100k_2021/marks\"\n",
    "\n",
    "print(new_db['types'])\n",
    "for type in new_db['types']:\n",
    "    full_path = os.path.join(types_dir, type + \".png\")\n",
    "    if os.path.exists(full_path):\n",
    "        shutil.copy(full_path, dest_dir_marks)\n"
   ],
   "metadata": {
    "collapsed": false,
    "pycharm": {
     "name": "#%%\n"
    }
   }
  }
 ],
 "metadata": {
  "kernelspec": {
   "display_name": "Python 3",
   "language": "python",
   "name": "python3"
  },
  "language_info": {
   "codemirror_mode": {
    "name": "ipython",
    "version": 2
   },
   "file_extension": ".py",
   "mimetype": "text/x-python",
   "name": "python",
   "nbconvert_exporter": "python",
   "pygments_lexer": "ipython2",
   "version": "2.7.6"
  }
 },
 "nbformat": 4,
 "nbformat_minor": 0
}