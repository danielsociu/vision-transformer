{
 "cells": [
  {
   "cell_type": "code",
   "execution_count": 9,
   "metadata": {
    "collapsed": true
   },
   "outputs": [
    {
     "name": "stdout",
     "output_type": "stream",
     "text": [
      "867\n"
     ]
    }
   ],
   "source": [
    "import os\n",
    "import json\n",
    "\n",
    "with open(\"./tt100k_2021/annotations_all.json\") as f:\n",
    "    new_db = {}\n",
    "    json_data = json.load(f)\n",
    "\n",
    "    # parsing annot\n",
    "    annot_type = json_data['types']\n",
    "    parsed_annotations = [annot for annot in annot_type if \"p\" in annot and \"i\" not in annot]\n",
    "    # parsed_annotations = [annot for annot in annot_type if \"i\" in annot]\n",
    "    new_parsed_annotations = []\n",
    "    for type in annot_type:\n",
    "        full_path = os.path.join(\"tt100k_2021/marks\", type + \".png\")\n",
    "        if not os.path.exists(full_path):\n",
    "            # print (full_path)\n",
    "            pass\n",
    "        else:\n",
    "            new_parsed_annotations.append(type)\n",
    "    parsed_annotations = new_parsed_annotations\n",
    "    # print(parsed_annotations)\n",
    "\n",
    "\n",
    "\n",
    "    new_db['types'] = parsed_annotations\n",
    "    new_db['imgs'] = {}\n",
    "    number_images = 0\n",
    "    for key, data in json_data['imgs'].items():\n",
    "        count = 0\n",
    "        new_data = {\n",
    "            'path': data['path'],\n",
    "            'id': data['id'],\n",
    "            'objects': []\n",
    "        }\n",
    "        category_list = [item['category'] for item in data['objects']]\n",
    "        if len(category_list) != len(set(category_list)):\n",
    "            for object in data['objects']:\n",
    "                # if object['category'] in parsed_annotations:\n",
    "                # new_data_category_list = [item['category'] for item in new_data['objects']]\n",
    "                # print(new_data_category_list)\n",
    "                # if object['category'] in parsed_annotations and category_list.count(object['category']) > 1 and object['category'] not in new_data_category_list:\n",
    "                    # print(category_list)\n",
    "                if object['category'] in parsed_annotations:\n",
    "                    new_data['objects'].append(object)\n",
    "                    count += 1\n",
    "        if count > 0:\n",
    "            new_db['imgs'][key] = new_data\n",
    "            number_images += 1\n",
    "\n",
    "    print(number_images)\n",
    "    # print(new_db)\n",
    "    # print(annot_type)\n"
   ]
  },
  {
   "cell_type": "code",
   "execution_count": 10,
   "outputs": [],
   "source": [
    "with open('duplicate_tt100k_2021/new_annotations_all.json', 'w') as outfile:\n",
    "    json.dump(new_db, outfile)\n"
   ],
   "metadata": {
    "collapsed": false,
    "pycharm": {
     "name": "#%%\n"
    }
   }
  },
  {
   "cell_type": "code",
   "execution_count": 11,
   "outputs": [],
   "source": [
    "import shutil\n",
    "\n",
    "source_dir = \"tt100k_2021\"\n",
    "dest_dir = \"duplicate_tt100k_2021/images\"\n",
    "\n",
    "for key, data in new_db['imgs'].items():\n",
    "    full_path = os.path.join(source_dir, data['path'])\n",
    "    shutil.copy(full_path, dest_dir)\n"
   ],
   "metadata": {
    "collapsed": false,
    "pycharm": {
     "name": "#%%\n"
    }
   }
  },
  {
   "cell_type": "code",
   "execution_count": 12,
   "outputs": [
    {
     "name": "stdout",
     "output_type": "stream",
     "text": [
      "['w9', 'p6', 'i8', 'w14', 'w33', 'w58', 'p5', 'ip', 'p11', 'w30', 'p23', 'pm10', 'w1', 'p4', 'w38', 'w50', 'w34', 'w39', 'w11', 'pd', 'pnl', 'pg', 'w66', 'pb', 'w24', 'w67', 'w49', 'w45', 'i4', 'w37', 'i14', 'i11', 'p7', 'p29', 'pne', 'p12', 'p3', 'w40', 'w13', 'p14', 'w16', 'p17', 'i9', 'w15', 'w35', 'w17', 'i15', 'i1', 'w28', 'ps', 'w18', 'w2', 'w52', 'pe', 'p20', 'w36', 'p10', 'pn', 'w54', 'p2', 'w62', 'w55', 'pw3', 'i12', 'i10', 'i13', 'w10', 'p26', 'w26', 'p8', 'w5', 'w42', 'il50', 'p13', 'pr40', 'p25', 'w41', 'w29', 'w53', 'p24', 'p21', 'pl40', 'w27', 'pc', 'i6', 'p18', 'i2', 'w22', 'w47', 'w56', 'i7', 'w12', 'w32', 'w19', 'w57', 'w48', 'w60', 'p16', 'w59', 'w64', 'w20', 'p9', 'w31', 'w65', 'p19', 'ph3.5', 'pa10', 'p15', 'w7', 'w43', 'p28', 'w6', 'w3', 'w25', 'p1', 'w46', 'w51', 'w44', 'w63', 'w23', 'w8', 'w4', 'i5', 'w21', 'p27', 'w61', 'i3']\n"
     ]
    }
   ],
   "source": [
    "import shutil\n",
    "source_dir = \"tt100k_2021\"\n",
    "types_dir = os.path.join(source_dir, \"marks\")\n",
    "dest_dir_marks = \"duplicate_tt100k_2021/marks\"\n",
    "\n",
    "print(new_db['types'])\n",
    "for type in new_db['types']:\n",
    "    full_path = os.path.join(types_dir, type + \".png\")\n",
    "    if os.path.exists(full_path):\n",
    "        shutil.copy(full_path, dest_dir_marks)\n"
   ],
   "metadata": {
    "collapsed": false,
    "pycharm": {
     "name": "#%%\n"
    }
   }
  }
 ],
 "metadata": {
  "kernelspec": {
   "display_name": "Python 3",
   "language": "python",
   "name": "python3"
  },
  "language_info": {
   "codemirror_mode": {
    "name": "ipython",
    "version": 2
   },
   "file_extension": ".py",
   "mimetype": "text/x-python",
   "name": "python",
   "nbconvert_exporter": "python",
   "pygments_lexer": "ipython2",
   "version": "2.7.6"
  }
 },
 "nbformat": 4,
 "nbformat_minor": 0
}